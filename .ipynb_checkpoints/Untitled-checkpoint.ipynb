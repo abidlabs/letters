{
 "cells": [
  {
   "cell_type": "code",
   "execution_count": null,
   "id": "82d0d6f1",
   "metadata": {},
   "outputs": [],
   "source": [
    "import os\n",
    "import openai\n",
    "from pathlib import Path\n",
    "\n",
    "# Set your OpenAI API key\n",
    "openai.api_key = os.getenv('OPENAI_KEY')\n",
    "\n",
    "# Arabic alphabet with spelled-out versions\n",
    "arabic_letters = [\n",
    "    ('ح', 'حَاء'),\n",
    "    ('د', 'دَال'),\n",
    "    ('ر', 'رَاء'),\n",
    "    ('ز', 'زَاء'),\n",
    "    ('ض', 'ضَاد'),\n",
    "    ('ظ', 'ظَاء'),\n",
    "    ('ف', 'فَاء'),\n",
    "    ('و', 'وَاو'),\n",
    "    ('ي', 'يَاء')\n",
    "]\n",
    "\n",
    "all_letters = 'أبتثجحخدذرزسشصضطظعغفقكلمنهوي'\n",
    "\n",
    "# Create a directory for the sound files\n",
    "output_dir = Path('nova')\n",
    "output_dir.mkdir(exist_ok=True)\n",
    "\n",
    "# Generate sound files for each letter\n",
    "for (letter, spelled_out) in arabic_letters:\n",
    "    print(f\"Generating sound for {letter} ({spelled_out})\")\n",
    "    index = all_letters.index(letter)\n",
    "    try:\n",
    "        response = openai.audio.speech.create(\n",
    "            model=\"tts-1\",\n",
    "            voice=\"nova\",\n",
    "            input=spelled_out\n",
    "        )\n",
    "        \n",
    "        # Save the audio file\n",
    "        output_file = output_dir / f\"{index}.mp3\"\n",
    "        response.stream_to_file(str(output_file))\n",
    "        \n",
    "        print(f\"Saved audio file: {output_file}\")\n",
    "    except Exception as e:\n",
    "        print(f\"Error generating audio for {letter}: {str(e)}\")\n",
    "    1/0\n",
    "\n",
    "print(\"Audio generation complete!\")"
   ]
  }
 ],
 "metadata": {
  "kernelspec": {
   "display_name": "Python 3.12",
   "language": "python",
   "name": "python3"
  },
  "language_info": {
   "codemirror_mode": {
    "name": "ipython",
    "version": 3
   },
   "file_extension": ".py",
   "mimetype": "text/x-python",
   "name": "python",
   "nbconvert_exporter": "python",
   "pygments_lexer": "ipython3",
   "version": "3.12.2"
  }
 },
 "nbformat": 4,
 "nbformat_minor": 5
}
