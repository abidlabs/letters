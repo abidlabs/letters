{
 "cells": [
  {
   "cell_type": "code",
   "execution_count": 20,
   "id": "50489049",
   "metadata": {},
   "outputs": [
    {
     "name": "stdout",
     "output_type": "stream",
     "text": [
      "Generating sound for و (وو)\n",
      "Saved audio file: nova/26.mp3\n"
     ]
    },
    {
     "name": "stderr",
     "output_type": "stream",
     "text": [
      "/var/folders/kf/ll6fqkys7_s05x4tvb546mdc0000gn/T/ipykernel_74298/4280326095.py:33: DeprecationWarning: Due to a bug, this method doesn't actually stream the response content, `.with_streaming_response.method()` should be used instead\n",
      "  response.stream_to_file(str(output_file))\n"
     ]
    },
    {
     "ename": "ZeroDivisionError",
     "evalue": "division by zero",
     "output_type": "error",
     "traceback": [
      "\u001b[0;31m---------------------------------------------------------------------------\u001b[0m",
      "\u001b[0;31mZeroDivisionError\u001b[0m                         Traceback (most recent call last)",
      "Cell \u001b[0;32mIn[20], line 38\u001b[0m\n\u001b[1;32m     36\u001b[0m     \u001b[38;5;28;01mexcept\u001b[39;00m \u001b[38;5;167;01mException\u001b[39;00m \u001b[38;5;28;01mas\u001b[39;00m e:\n\u001b[1;32m     37\u001b[0m         \u001b[38;5;28mprint\u001b[39m(\u001b[38;5;124mf\u001b[39m\u001b[38;5;124m\"\u001b[39m\u001b[38;5;124mError generating audio for \u001b[39m\u001b[38;5;132;01m{\u001b[39;00mletter\u001b[38;5;132;01m}\u001b[39;00m\u001b[38;5;124m: \u001b[39m\u001b[38;5;132;01m{\u001b[39;00m\u001b[38;5;28mstr\u001b[39m(e)\u001b[38;5;132;01m}\u001b[39;00m\u001b[38;5;124m\"\u001b[39m)\n\u001b[0;32m---> 38\u001b[0m     \u001b[38;5;241;43m1\u001b[39;49m\u001b[38;5;241;43m/\u001b[39;49m\u001b[38;5;241;43m0\u001b[39;49m\n\u001b[1;32m     40\u001b[0m \u001b[38;5;28mprint\u001b[39m(\u001b[38;5;124m\"\u001b[39m\u001b[38;5;124mAudio generation complete!\u001b[39m\u001b[38;5;124m\"\u001b[39m)\n",
      "\u001b[0;31mZeroDivisionError\u001b[0m: division by zero"
     ]
    }
   ],
   "source": [
    "import os\n",
    "import openai\n",
    "from pathlib import Path\n",
    "\n",
    "# Set your OpenAI API key\n",
    "openai.api_key = os.getenv('OPENAI_KEY')\n",
    "\n",
    "# Arabic alphabet with spelled-out versions\n",
    "arabic_letters = [\n",
    "    ('ي', 'يَا')\n",
    "]\n",
    "\n",
    "all_letters = 'أبتثجحخدذرزسشصضطظعغفقكلمنهوي'\n",
    "\n",
    "# Create a directory for the sound files\n",
    "output_dir = Path('nova')\n",
    "output_dir.mkdir(exist_ok=True)\n",
    "\n",
    "# Generate sound files for each letter\n",
    "for (letter, spelled_out) in arabic_letters:\n",
    "    print(f\"Generating sound for {letter} ({spelled_out})\")\n",
    "    index = all_letters.index(letter)\n",
    "    try:\n",
    "        response = openai.audio.speech.create(\n",
    "            model=\"tts-1\",\n",
    "            voice=\"nova\",\n",
    "            input=spelled_out\n",
    "        )\n",
    "        \n",
    "        # Save the audio file\n",
    "        output_file = output_dir / f\"{index}.mp3\"\n",
    "        response.stream_to_file(str(output_file))\n",
    "        \n",
    "        print(f\"Saved audio file: {output_file}\")\n",
    "    except Exception as e:\n",
    "        print(f\"Error generating audio for {letter}: {str(e)}\")\n",
    "    1/0\n",
    "\n",
    "print(\"Audio generation complete!\")"
   ]
  }
 ],
 "metadata": {
  "kernelspec": {
   "display_name": "Python 3.12",
   "language": "python",
   "name": "python3"
  },
  "language_info": {
   "codemirror_mode": {
    "name": "ipython",
    "version": 3
   },
   "file_extension": ".py",
   "mimetype": "text/x-python",
   "name": "python",
   "nbconvert_exporter": "python",
   "pygments_lexer": "ipython3",
   "version": "3.12.2"
  }
 },
 "nbformat": 4,
 "nbformat_minor": 5
}
